{
 "cells": [
  {
   "cell_type": "code",
   "execution_count": 1,
   "id": "9884a18a",
   "metadata": {},
   "outputs": [],
   "source": [
    "import numpy as np"
   ]
  },
  {
   "cell_type": "code",
   "execution_count": 2,
   "id": "b1392872",
   "metadata": {},
   "outputs": [],
   "source": [
    "true_w = np.array([1,2,3,4,5])\n",
    "d = len(true_w)\n",
    "Dtrain = []\n",
    "for i in range(10000):\n",
    "    x = np.random.randn(d)\n",
    "    y = true_w.dot(x) + np.random.randn()\n",
    "    #print(x, y)\n",
    "    Dtrain.append((x, y))"
   ]
  },
  {
   "cell_type": "code",
   "execution_count": null,
   "id": "0e04411c",
   "metadata": {},
   "outputs": [],
   "source": [
    "Dtrain"
   ]
  },
  {
   "cell_type": "code",
   "execution_count": 3,
   "id": "f874b0ec",
   "metadata": {},
   "outputs": [],
   "source": [
    "def F(w):\n",
    "    return sum((w.dot(x)-y)**2 for x,y in Dtrain)\n",
    "def dF(w):\n",
    "    return sum(2*(w.dot(x)-y)*x for x, y in Dtrain)"
   ]
  },
  {
   "cell_type": "code",
   "execution_count": 4,
   "id": "dac278e9",
   "metadata": {},
   "outputs": [],
   "source": [
    "def sF(w, i):\n",
    "    x, y = Dtrain[i]\n",
    "    return (w.dot(x) - y)**2\n",
    "def sdF(w, i):\n",
    "    x, y = Dtrain[i]\n",
    "    return 2*(w.dot(x) - y)* x\n",
    "\n"
   ]
  },
  {
   "cell_type": "code",
   "execution_count": 5,
   "id": "5852ed35",
   "metadata": {},
   "outputs": [],
   "source": [
    "def GradientDescent(F, dF,dims = 2):\n",
    "    w = np.zeros(d)\n",
    "    eta = 1.0\n",
    "    for t in range(1000):\n",
    "        value = F(w)\n",
    "        gradient = dF(w)\n",
    "        w = w - eta*gradient\n",
    "        print('itreation {}: w = {}: F(w) = {}'.format(t, w, value))"
   ]
  },
  {
   "cell_type": "code",
   "execution_count": 14,
   "id": "b3b5db15",
   "metadata": {},
   "outputs": [],
   "source": [
    "def SGD(sF, sdF,d, n):\n",
    "    w = np.zeros(d)\n",
    "    eta = 1.0\n",
    "    numUpdates = 0\n",
    "    for t in range(1000):\n",
    "        for i in range (n):\n",
    "            value = sF(w, i)\n",
    "            gradient = sdF(w, i)\n",
    "            numUpdates += 1\n",
    "            eta = 1.0/numUpdates\n",
    "            w = w - eta*gradient\n",
    "        print('itreation {}: w = {}: F(w) = {}'.format(t, w.round(1), value))"
   ]
  },
  {
   "cell_type": "code",
   "execution_count": 15,
   "id": "2efbac07",
   "metadata": {},
   "outputs": [
    {
     "name": "stdout",
     "output_type": "stream",
     "text": [
      "itreation 0: w = [1. 2. 3. 4. 5.]: F(w) = 0.9206746903251662\n",
      "itreation 1: w = [1. 2. 3. 4. 5.]: F(w) = 0.9134471278845874\n",
      "itreation 2: w = [1. 2. 3. 4. 5.]: F(w) = 0.9111125237932292\n",
      "itreation 3: w = [1. 2. 3. 4. 5.]: F(w) = 0.9099622545725613\n",
      "itreation 4: w = [1. 2. 3. 4. 5.]: F(w) = 0.9092781824049032\n",
      "itreation 5: w = [1. 2. 3. 4. 5.]: F(w) = 0.9088248721624425\n",
      "itreation 6: w = [1. 2. 3. 4. 5.]: F(w) = 0.9085024993757711\n",
      "itreation 7: w = [1. 2. 3. 4. 5.]: F(w) = 0.9082615328769671\n",
      "itreation 8: w = [1. 2. 3. 4. 5.]: F(w) = 0.9080746149353177\n",
      "itreation 9: w = [1. 2. 3. 4. 5.]: F(w) = 0.9079254061861474\n",
      "itreation 10: w = [1. 2. 3. 4. 5.]: F(w) = 0.9078035476747427\n",
      "itreation 11: w = [1. 2. 3. 4. 5.]: F(w) = 0.9077021549009876\n",
      "itreation 12: w = [1. 2. 3. 4. 5.]: F(w) = 0.9076164742316497\n",
      "itreation 13: w = [1. 2. 3. 4. 5.]: F(w) = 0.907543117908835\n",
      "itreation 14: w = [1. 2. 3. 4. 5.]: F(w) = 0.9074796064767744\n",
      "itreation 15: w = [1. 2. 3. 4. 5.]: F(w) = 0.9074240835689932\n",
      "itreation 16: w = [1. 2. 3. 4. 5.]: F(w) = 0.9073751317955393\n",
      "itreation 17: w = [1. 2. 3. 4. 5.]: F(w) = 0.9073316502580521\n",
      "itreation 18: w = [1. 2. 3. 4. 5.]: F(w) = 0.9072927709021171\n",
      "itreation 19: w = [1. 2. 3. 4. 5.]: F(w) = 0.9072578000623073\n",
      "itreation 20: w = [1. 2. 3. 4. 5.]: F(w) = 0.9072261767725275\n",
      "itreation 21: w = [1. 2. 3. 4. 5.]: F(w) = 0.9071974424882683\n",
      "itreation 22: w = [1. 2. 3. 4. 5.]: F(w) = 0.9071712187364384\n",
      "itreation 23: w = [1. 2. 3. 4. 5.]: F(w) = 0.9071471903715096\n",
      "itreation 24: w = [1. 2. 3. 4. 5.]: F(w) = 0.9071250928647224\n",
      "itreation 25: w = [1. 2. 3. 4. 5.]: F(w) = 0.9071047025355069\n",
      "itreation 26: w = [1. 2. 3. 4. 5.]: F(w) = 0.9070858289614986\n",
      "itreation 27: w = [1. 2. 3. 4. 5.]: F(w) = 0.9070683090195262\n",
      "itreation 28: w = [1. 2. 3. 4. 5.]: F(w) = 0.907052002163535\n",
      "itreation 29: w = [1. 2. 3. 4. 5.]: F(w) = 0.9070367866501716\n",
      "itreation 30: w = [1. 2. 3. 4. 5.]: F(w) = 0.907022556496171\n",
      "itreation 31: w = [1. 2. 3. 4. 5.]: F(w) = 0.9070092190088082\n",
      "itreation 32: w = [1. 2. 3. 4. 5.]: F(w) = 0.906996692765853\n",
      "itreation 33: w = [1. 2. 3. 4. 5.]: F(w) = 0.9069849059535793\n",
      "itreation 34: w = [1. 2. 3. 4. 5.]: F(w) = 0.9069737949902655\n"
     ]
    },
    {
     "ename": "KeyboardInterrupt",
     "evalue": "",
     "output_type": "error",
     "traceback": [
      "\u001b[0;31m---------------------------------------------------------------------------\u001b[0m",
      "\u001b[0;31mKeyboardInterrupt\u001b[0m                         Traceback (most recent call last)",
      "\u001b[0;32m/tmp/ipykernel_9955/4127194927.py\u001b[0m in \u001b[0;36m<module>\u001b[0;34m\u001b[0m\n\u001b[0;32m----> 1\u001b[0;31m \u001b[0mSGD\u001b[0m\u001b[0;34m(\u001b[0m\u001b[0msF\u001b[0m\u001b[0;34m,\u001b[0m \u001b[0msdF\u001b[0m\u001b[0;34m,\u001b[0m \u001b[0md\u001b[0m\u001b[0;34m,\u001b[0m \u001b[0mlen\u001b[0m\u001b[0;34m(\u001b[0m\u001b[0mDtrain\u001b[0m\u001b[0;34m)\u001b[0m\u001b[0;34m)\u001b[0m\u001b[0;34m\u001b[0m\u001b[0;34m\u001b[0m\u001b[0m\n\u001b[0m",
      "\u001b[0;32m/tmp/ipykernel_9955/812171113.py\u001b[0m in \u001b[0;36mSGD\u001b[0;34m(sF, sdF, d, n)\u001b[0m\n\u001b[1;32m      6\u001b[0m         \u001b[0;32mfor\u001b[0m \u001b[0mi\u001b[0m \u001b[0;32min\u001b[0m \u001b[0mrange\u001b[0m \u001b[0;34m(\u001b[0m\u001b[0mn\u001b[0m\u001b[0;34m)\u001b[0m\u001b[0;34m:\u001b[0m\u001b[0;34m\u001b[0m\u001b[0;34m\u001b[0m\u001b[0m\n\u001b[1;32m      7\u001b[0m             \u001b[0mvalue\u001b[0m \u001b[0;34m=\u001b[0m \u001b[0msF\u001b[0m\u001b[0;34m(\u001b[0m\u001b[0mw\u001b[0m\u001b[0;34m,\u001b[0m \u001b[0mi\u001b[0m\u001b[0;34m)\u001b[0m\u001b[0;34m\u001b[0m\u001b[0;34m\u001b[0m\u001b[0m\n\u001b[0;32m----> 8\u001b[0;31m             \u001b[0mgradient\u001b[0m \u001b[0;34m=\u001b[0m \u001b[0msdF\u001b[0m\u001b[0;34m(\u001b[0m\u001b[0mw\u001b[0m\u001b[0;34m,\u001b[0m \u001b[0mi\u001b[0m\u001b[0;34m)\u001b[0m\u001b[0;34m\u001b[0m\u001b[0;34m\u001b[0m\u001b[0m\n\u001b[0m\u001b[1;32m      9\u001b[0m             \u001b[0mnumUpdates\u001b[0m \u001b[0;34m+=\u001b[0m \u001b[0;36m1\u001b[0m\u001b[0;34m\u001b[0m\u001b[0;34m\u001b[0m\u001b[0m\n\u001b[1;32m     10\u001b[0m             \u001b[0meta\u001b[0m \u001b[0;34m=\u001b[0m \u001b[0;36m1.0\u001b[0m\u001b[0;34m/\u001b[0m\u001b[0mnumUpdates\u001b[0m\u001b[0;34m\u001b[0m\u001b[0;34m\u001b[0m\u001b[0m\n",
      "\u001b[0;32m/tmp/ipykernel_9955/760024493.py\u001b[0m in \u001b[0;36msdF\u001b[0;34m(w, i)\u001b[0m\n\u001b[1;32m      4\u001b[0m \u001b[0;32mdef\u001b[0m \u001b[0msdF\u001b[0m\u001b[0;34m(\u001b[0m\u001b[0mw\u001b[0m\u001b[0;34m,\u001b[0m \u001b[0mi\u001b[0m\u001b[0;34m)\u001b[0m\u001b[0;34m:\u001b[0m\u001b[0;34m\u001b[0m\u001b[0;34m\u001b[0m\u001b[0m\n\u001b[1;32m      5\u001b[0m     \u001b[0mx\u001b[0m\u001b[0;34m,\u001b[0m \u001b[0my\u001b[0m \u001b[0;34m=\u001b[0m \u001b[0mDtrain\u001b[0m\u001b[0;34m[\u001b[0m\u001b[0mi\u001b[0m\u001b[0;34m]\u001b[0m\u001b[0;34m\u001b[0m\u001b[0;34m\u001b[0m\u001b[0m\n\u001b[0;32m----> 6\u001b[0;31m     \u001b[0;32mreturn\u001b[0m \u001b[0;36m2\u001b[0m\u001b[0;34m*\u001b[0m\u001b[0;34m(\u001b[0m\u001b[0mw\u001b[0m\u001b[0;34m.\u001b[0m\u001b[0mdot\u001b[0m\u001b[0;34m(\u001b[0m\u001b[0mx\u001b[0m\u001b[0;34m)\u001b[0m \u001b[0;34m-\u001b[0m \u001b[0my\u001b[0m\u001b[0;34m)\u001b[0m\u001b[0;34m*\u001b[0m \u001b[0mx\u001b[0m\u001b[0;34m\u001b[0m\u001b[0;34m\u001b[0m\u001b[0m\n\u001b[0m\u001b[1;32m      7\u001b[0m \u001b[0;34m\u001b[0m\u001b[0m\n",
      "\u001b[0;31mKeyboardInterrupt\u001b[0m: "
     ]
    }
   ],
   "source": [
    "SGD(sF, sdF, d, len(Dtrain))"
   ]
  },
  {
   "cell_type": "code",
   "execution_count": null,
   "id": "8bc0d8a5-cffa-4f0a-a822-8c06222ddfe1",
   "metadata": {},
   "outputs": [],
   "source": [
    "Dtrain[:1]"
   ]
  },
  {
   "cell_type": "code",
   "execution_count": 12,
   "id": "21ae4bbb-b059-4886-aed4-2b8c023c57c0",
   "metadata": {},
   "outputs": [],
   "source": [
    "#bad algo\n",
    "def mSGD(sF, sdF,d, n):\n",
    "    w = np.zeros(d)\n",
    "    eta =len(Dtrain)/(len(Dtrain)+1)\n",
    "    numUpdates = 0\n",
    "    for t in range(1000):\n",
    "        for i in range (n):\n",
    "            value = sF(w, i)\n",
    "            gradient = sdF(w, i)\n",
    "            numUpdates += 1\n",
    "            eta = eta/(eta+1)\n",
    "            w = w - eta*gradient\n",
    "        print('itreation {}: w = {}: F(w) = {}'.format(t, w.round(1), value))"
   ]
  },
  {
   "cell_type": "code",
   "execution_count": 13,
   "id": "2826253f-f998-4a0a-9bda-c93a07629203",
   "metadata": {},
   "outputs": [
    {
     "name": "stdout",
     "output_type": "stream",
     "text": [
      "itreation 0: w = [1. 2. 3. 4. 5.]: F(w) = 0.920667701803871\n",
      "itreation 1: w = [1. 2. 3. 4. 5.]: F(w) = 0.9134453117141688\n",
      "itreation 2: w = [1. 2. 3. 4. 5.]: F(w) = 0.9111116967759111\n",
      "itreation 3: w = [1. 2. 3. 4. 5.]: F(w) = 0.9099617811033492\n",
      "itreation 4: w = [1. 2. 3. 4. 5.]: F(w) = 0.90927787516646\n",
      "itreation 5: w = [1. 2. 3. 4. 5.]: F(w) = 0.9088246563641703\n",
      "itreation 6: w = [1. 2. 3. 4. 5.]: F(w) = 0.9085023392942584\n",
      "itreation 7: w = [1. 2. 3. 4. 5.]: F(w) = 0.9082614092847834\n",
      "itreation 8: w = [1. 2. 3. 4. 5.]: F(w) = 0.9080745165581775\n",
      "itreation 9: w = [1. 2. 3. 4. 5.]: F(w) = 0.9079253259720667\n",
      "itreation 10: w = [1. 2. 3. 4. 5.]: F(w) = 0.9078034809843392\n",
      "itreation 11: w = [1. 2. 3. 4. 5.]: F(w) = 0.9077020985558576\n",
      "itreation 12: w = [1. 2. 3. 4. 5.]: F(w) = 0.9076164259801117\n",
      "itreation 13: w = [1. 2. 3. 4. 5.]: F(w) = 0.9075430761105524\n",
      "itreation 14: w = [1. 2. 3. 4. 5.]: F(w) = 0.9074795699082233\n",
      "itreation 15: w = [1. 2. 3. 4. 5.]: F(w) = 0.9074240512987004\n",
      "itreation 16: w = [1. 2. 3. 4. 5.]: F(w) = 0.9073751031014861\n",
      "itreation 17: w = [1. 2. 3. 4. 5.]: F(w) = 0.907331624572094\n",
      "itreation 18: w = [1. 2. 3. 4. 5.]: F(w) = 0.9072927477707926\n",
      "itreation 19: w = [1. 2. 3. 4. 5.]: F(w) = 0.9072577791193245\n",
      "itreation 20: w = [1. 2. 3. 4. 5.]: F(w) = 0.9072261577187404\n",
      "itreation 21: w = [1. 2. 3. 4. 5.]: F(w) = 0.9071974250769536\n",
      "itreation 22: w = [1. 2. 3. 4. 5.]: F(w) = 0.9071712027621136\n",
      "itreation 23: w = [1. 2. 3. 4. 5.]: F(w) = 0.9071471756617692\n",
      "itreation 24: w = [1. 2. 3. 4. 5.]: F(w) = 0.9071250792737665\n",
      "itreation 25: w = [1. 2. 3. 4. 5.]: F(w) = 0.9071046899392714\n",
      "itreation 26: w = [1. 2. 3. 4. 5.]: F(w) = 0.9070858172536577\n",
      "itreation 27: w = [1. 2. 3. 4. 5.]: F(w) = 0.9070682981083558\n",
      "itreation 28: w = [1. 2. 3. 4. 5.]: F(w) = 0.9070519919698626\n",
      "itreation 29: w = [1. 2. 3. 4. 5.]: F(w) = 0.9070367771046344\n",
      "itreation 30: w = [1. 2. 3. 4. 5.]: F(w) = 0.9070225475384319\n",
      "itreation 31: w = [1. 2. 3. 4. 5.]: F(w) = 0.9070092105856211\n",
      "itreation 32: w = [1. 2. 3. 4. 5.]: F(w) = 0.9069966848303659\n",
      "itreation 33: w = [1. 2. 3. 4. 5.]: F(w) = 0.9069848984642199\n",
      "itreation 34: w = [1. 2. 3. 4. 5.]: F(w) = 0.9069737879101258\n",
      "itreation 35: w = [1. 2. 3. 4. 5.]: F(w) = 0.9069632966753872\n",
      "itreation 36: w = [1. 2. 3. 4. 5.]: F(w) = 0.906953374392313\n",
      "itreation 37: w = [1. 2. 3. 4. 5.]: F(w) = 0.9069439760098958\n",
      "itreation 38: w = [1. 2. 3. 4. 5.]: F(w) = 0.9069350611105141\n",
      "itreation 39: w = [1. 2. 3. 4. 5.]: F(w) = 0.9069265933290719\n",
      "itreation 40: w = [1. 2. 3. 4. 5.]: F(w) = 0.9069185398577546\n",
      "itreation 41: w = [1. 2. 3. 4. 5.]: F(w) = 0.906910871021503\n",
      "itreation 42: w = [1. 2. 3. 4. 5.]: F(w) = 0.9069035599127017\n",
      "itreation 43: w = [1. 2. 3. 4. 5.]: F(w) = 0.9068965820759384\n",
      "itreation 44: w = [1. 2. 3. 4. 5.]: F(w) = 0.9068899152350969\n",
      "itreation 45: w = [1. 2. 3. 4. 5.]: F(w) = 0.9068835390557316\n",
      "itreation 46: w = [1. 2. 3. 4. 5.]: F(w) = 0.9068774349380693\n",
      "itreation 47: w = [1. 2. 3. 4. 5.]: F(w) = 0.9068715858361195\n",
      "itreation 48: w = [1. 2. 3. 4. 5.]: F(w) = 0.9068659760983964\n",
      "itreation 49: w = [1. 2. 3. 4. 5.]: F(w) = 0.9068605913287091\n",
      "itreation 50: w = [1. 2. 3. 4. 5.]: F(w) = 0.9068554182621589\n",
      "itreation 51: w = [1. 2. 3. 4. 5.]: F(w) = 0.9068504446567599\n",
      "itreation 52: w = [1. 2. 3. 4. 5.]: F(w) = 0.9068456591962257\n",
      "itreation 53: w = [1. 2. 3. 4. 5.]: F(w) = 0.9068410514045292\n",
      "itreation 54: w = [1. 2. 3. 4. 5.]: F(w) = 0.9068366115688571\n",
      "itreation 55: w = [1. 2. 3. 4. 5.]: F(w) = 0.9068323306718221\n",
      "itreation 56: w = [1. 2. 3. 4. 5.]: F(w) = 0.9068282003301358\n",
      "itreation 57: w = [1. 2. 3. 4. 5.]: F(w) = 0.9068242127396959\n",
      "itreation 58: w = [1. 2. 3. 4. 5.]: F(w) = 0.9068203606267138\n",
      "itreation 59: w = [1. 2. 3. 4. 5.]: F(w) = 0.9068166372033638\n",
      "itreation 60: w = [1. 2. 3. 4. 5.]: F(w) = 0.9068130361273412\n",
      "itreation 61: w = [1. 2. 3. 4. 5.]: F(w) = 0.9068095514668125\n",
      "itreation 62: w = [1. 2. 3. 4. 5.]: F(w) = 0.9068061776671531\n"
     ]
    },
    {
     "ename": "KeyboardInterrupt",
     "evalue": "",
     "output_type": "error",
     "traceback": [
      "\u001b[0;31m---------------------------------------------------------------------------\u001b[0m",
      "\u001b[0;31mKeyboardInterrupt\u001b[0m                         Traceback (most recent call last)",
      "\u001b[0;32m/tmp/ipykernel_9955/659640774.py\u001b[0m in \u001b[0;36m<module>\u001b[0;34m\u001b[0m\n\u001b[0;32m----> 1\u001b[0;31m \u001b[0mmSGD\u001b[0m\u001b[0;34m(\u001b[0m\u001b[0msF\u001b[0m\u001b[0;34m,\u001b[0m \u001b[0msdF\u001b[0m\u001b[0;34m,\u001b[0m\u001b[0md\u001b[0m\u001b[0;34m,\u001b[0m \u001b[0mlen\u001b[0m\u001b[0;34m(\u001b[0m\u001b[0mDtrain\u001b[0m\u001b[0;34m)\u001b[0m\u001b[0;34m)\u001b[0m\u001b[0;34m\u001b[0m\u001b[0;34m\u001b[0m\u001b[0m\n\u001b[0m",
      "\u001b[0;32m/tmp/ipykernel_9955/3956804821.py\u001b[0m in \u001b[0;36mmSGD\u001b[0;34m(sF, sdF, d, n)\u001b[0m\n\u001b[1;32m     10\u001b[0m             \u001b[0mnumUpdates\u001b[0m \u001b[0;34m+=\u001b[0m \u001b[0;36m1\u001b[0m\u001b[0;34m\u001b[0m\u001b[0;34m\u001b[0m\u001b[0m\n\u001b[1;32m     11\u001b[0m             \u001b[0meta\u001b[0m \u001b[0;34m=\u001b[0m \u001b[0meta\u001b[0m\u001b[0;34m/\u001b[0m\u001b[0;34m(\u001b[0m\u001b[0meta\u001b[0m\u001b[0;34m+\u001b[0m\u001b[0;36m1\u001b[0m\u001b[0;34m)\u001b[0m\u001b[0;34m\u001b[0m\u001b[0;34m\u001b[0m\u001b[0m\n\u001b[0;32m---> 12\u001b[0;31m             \u001b[0mw\u001b[0m \u001b[0;34m=\u001b[0m \u001b[0mw\u001b[0m \u001b[0;34m-\u001b[0m \u001b[0meta\u001b[0m\u001b[0;34m*\u001b[0m\u001b[0mgradient\u001b[0m\u001b[0;34m\u001b[0m\u001b[0;34m\u001b[0m\u001b[0m\n\u001b[0m\u001b[1;32m     13\u001b[0m         \u001b[0mprint\u001b[0m\u001b[0;34m(\u001b[0m\u001b[0;34m'itreation {}: w = {}: F(w) = {}'\u001b[0m\u001b[0;34m.\u001b[0m\u001b[0mformat\u001b[0m\u001b[0;34m(\u001b[0m\u001b[0mt\u001b[0m\u001b[0;34m,\u001b[0m \u001b[0mw\u001b[0m\u001b[0;34m.\u001b[0m\u001b[0mround\u001b[0m\u001b[0;34m(\u001b[0m\u001b[0;36m1\u001b[0m\u001b[0;34m)\u001b[0m\u001b[0;34m,\u001b[0m \u001b[0mvalue\u001b[0m\u001b[0;34m)\u001b[0m\u001b[0;34m)\u001b[0m\u001b[0;34m\u001b[0m\u001b[0;34m\u001b[0m\u001b[0m\n",
      "\u001b[0;31mKeyboardInterrupt\u001b[0m: "
     ]
    }
   ],
   "source": [
    "mSGD(sF, sdF,d, len(Dtrain))"
   ]
  },
  {
   "cell_type": "code",
   "execution_count": null,
   "id": "1b0df38e-4dbe-4d23-873f-1e9d75839fd8",
   "metadata": {},
   "outputs": [],
   "source": []
  }
 ],
 "metadata": {
  "kernelspec": {
   "display_name": "Python 3 (ipykernel)",
   "language": "python",
   "name": "python3"
  },
  "language_info": {
   "codemirror_mode": {
    "name": "ipython",
    "version": 3
   },
   "file_extension": ".py",
   "mimetype": "text/x-python",
   "name": "python",
   "nbconvert_exporter": "python",
   "pygments_lexer": "ipython3",
   "version": "3.9.7"
  }
 },
 "nbformat": 4,
 "nbformat_minor": 5
}
