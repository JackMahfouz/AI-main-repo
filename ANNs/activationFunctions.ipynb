{
 "cells": [
  {
   "cell_type": "markdown",
   "id": "e8562000-618d-4c05-8591-4aa45dcba8d3",
   "metadata": {},
   "source": [
    "Activation Functions"
   ]
  },
  {
   "cell_type": "code",
   "execution_count": 1,
   "id": "325ebe56-db29-4673-bc77-26737078dd9d",
   "metadata": {},
   "outputs": [],
   "source": [
    "def stepActivation(inputs):\n",
    "    if inputs >= 0:\n",
    "        return 1\n",
    "    else:\n",
    "        return 0\n",
    "    "
   ]
  },
  {
   "cell_type": "code",
   "execution_count": 2,
   "id": "b8ec884c-5368-469a-a2e4-9d614167fec1",
   "metadata": {},
   "outputs": [
    {
     "data": {
      "text/plain": [
       "1"
      ]
     },
     "execution_count": 2,
     "metadata": {},
     "output_type": "execute_result"
    }
   ],
   "source": [
    "stepActivation(0)"
   ]
  },
  {
   "cell_type": "code",
   "execution_count": 3,
   "id": "245673e0-80ff-4c49-a780-b9355d7c707e",
   "metadata": {},
   "outputs": [],
   "source": [
    "import math as m\n",
    "def sigmoid(x):\n",
    "    return 1/(1+m.exp(-x))"
   ]
  },
  {
   "cell_type": "code",
   "execution_count": 4,
   "id": "490d1db3-6896-47f6-aa85-0938ca6ef5a6",
   "metadata": {},
   "outputs": [
    {
     "data": {
      "text/plain": [
       "0.5"
      ]
     },
     "execution_count": 4,
     "metadata": {},
     "output_type": "execute_result"
    }
   ],
   "source": [
    "sigmoid(0)"
   ]
  },
  {
   "cell_type": "code",
   "execution_count": 5,
   "id": "68693d8c-573c-4c65-8408-e745216b10b3",
   "metadata": {},
   "outputs": [],
   "source": [
    "def ReLU(x):\n",
    "    if x < 0:\n",
    "        return 0\n",
    "    else:\n",
    "        return x"
   ]
  },
  {
   "cell_type": "code",
   "execution_count": 6,
   "id": "7b924a86-05be-4a7c-b06b-4495dc5fdf8d",
   "metadata": {},
   "outputs": [
    {
     "data": {
      "text/plain": [
       "0"
      ]
     },
     "execution_count": 6,
     "metadata": {},
     "output_type": "execute_result"
    }
   ],
   "source": [
    "ReLU(0)"
   ]
  },
  {
   "cell_type": "code",
   "execution_count": 7,
   "id": "5e653fc8-8a18-4ce9-b011-dbd18f11beb0",
   "metadata": {},
   "outputs": [
    {
     "data": {
      "text/plain": [
       "1"
      ]
     },
     "execution_count": 7,
     "metadata": {},
     "output_type": "execute_result"
    }
   ],
   "source": [
    "ReLU(1)"
   ]
  },
  {
   "cell_type": "code",
   "execution_count": 9,
   "id": "d2484a35-778d-4c9b-a854-7fe42a8b61a8",
   "metadata": {},
   "outputs": [],
   "source": [
    "X = []\n",
    "Y = []\n",
    "x = -10\n",
    "for i in range(20):\n",
    "    x = x + i\n",
    "    Y.append( ReLU(x))\n",
    "    X.append(x)"
   ]
  },
  {
   "cell_type": "code",
   "execution_count": 10,
   "id": "ae8db3a4-9418-4c91-b34a-085ed6539804",
   "metadata": {},
   "outputs": [
    {
     "data": {
      "text/plain": [
       "[-10,\n",
       " -9,\n",
       " -7,\n",
       " -4,\n",
       " 0,\n",
       " 5,\n",
       " 11,\n",
       " 18,\n",
       " 26,\n",
       " 35,\n",
       " 45,\n",
       " 56,\n",
       " 68,\n",
       " 81,\n",
       " 95,\n",
       " 110,\n",
       " 126,\n",
       " 143,\n",
       " 161,\n",
       " 180]"
      ]
     },
     "execution_count": 10,
     "metadata": {},
     "output_type": "execute_result"
    }
   ],
   "source": [
    "X"
   ]
  },
  {
   "cell_type": "code",
   "execution_count": 11,
   "id": "fd6b048f-0199-48dd-ba3c-78c8811e2b5c",
   "metadata": {},
   "outputs": [
    {
     "data": {
      "text/plain": [
       "[0, 0, 0, 0, 0, 5, 11, 18, 26, 35, 45, 56, 68, 81, 95, 110, 126, 143, 161, 180]"
      ]
     },
     "execution_count": 11,
     "metadata": {},
     "output_type": "execute_result"
    }
   ],
   "source": [
    "Y"
   ]
  },
  {
   "cell_type": "code",
   "execution_count": 12,
   "id": "e6ff6f0f-e735-4062-9d0b-99856a0171a2",
   "metadata": {},
   "outputs": [],
   "source": [
    "import matplotlib.pyplot as plt\n",
    "%matplotlib inline"
   ]
  },
  {
   "cell_type": "code",
   "execution_count": 18,
   "id": "3c4d7f19-01ad-421e-8145-d27392e33d17",
   "metadata": {},
   "outputs": [
    {
     "data": {
      "image/png": "[encoded data removed]",
      "text/plain": [
       "<Figure size 432x288 with 1 Axes>"
      ]
     },
     "metadata": {
      "needs_background": "light"
     },
     "output_type": "display_data"
    }
   ],
   "source": [
    "plt.plot(X, Y)\n",
    "plt.axvline(0, c = 'black', ls = '--')\n",
    "plt.axhline(0, c = 'black', ls = '--')\n",
    "plt.xlabel('X')\n",
    "plt.ylabel('Y')\n",
    "plt.show()"
   ]
  },
  {
   "cell_type": "code",
   "execution_count": 21,
   "id": "55d8a7eb-d890-465d-9400-a57655eb85d8",
   "metadata": {},
   "outputs": [],
   "source": [
    "XSig = []\n",
    "YSig = []\n",
    "x = -10\n",
    "for i in range(20):\n",
    "    x = x + i\n",
    "    YSig.append( sigmoid(x))\n",
    "    XSig.append(x)"
   ]
  },
  {
   "cell_type": "code",
   "execution_count": 22,
   "id": "36ab5504-fa50-4db9-9884-08cef67119ff",
   "metadata": {},
   "outputs": [
    {
     "data": {
      "image/png": "[encoded data removed]",
      "text/plain": [
       "<Figure size 432x288 with 1 Axes>"
      ]
     },
     "metadata": {
      "needs_background": "light"
     },
     "output_type": "display_data"
    }
   ],
   "source": [
    "plt.plot(XSig, YSig)\n",
    "plt.axvline(0, c = 'black', ls = '--')\n",
    "plt.axhline(0, c = 'black', ls = '--')\n",
    "plt.xlabel('X')\n",
    "plt.ylabel('Y')\n",
    "plt.show()"
   ]
  },
  {
   "cell_type": "code",
   "execution_count": null,
   "id": "0b81f3c4-0093-47f8-a518-4852d636faf6",
   "metadata": {},
   "outputs": [],
   "source": []
  }
 ],
 "metadata": {
  "kernelspec": {
   "display_name": "Python 3 (ipykernel)",
   "language": "python",
   "name": "python3"
  },
  "language_info": {
   "codemirror_mode": {
    "name": "ipython",
    "version": 3
   },
   "file_extension": ".py",
   "mimetype": "text/x-python",
   "name": "python",
   "nbconvert_exporter": "python",
   "pygments_lexer": "ipython3",
   "version": "3.9.7"
  },
  "toc-autonumbering": false,
  "toc-showcode": false,
  "toc-showmarkdowntxt": false,
  "widgets": {
   "application/vnd.jupyter.widget-state+json": {
    "state": {},
    "version_major": 2,
    "version_minor": 0
   }
  }
 },
 "nbformat": 4,
 "nbformat_minor": 5
}
