{
 "cells": [
  {
   "cell_type": "code",
   "execution_count": 1,
   "id": "0eeeecf7-5fb0-40c1-9501-0cda91ca8a2b",
   "metadata": {},
   "outputs": [],
   "source": [
    "import numpy as np"
   ]
  },
  {
   "cell_type": "code",
   "execution_count": 2,
   "id": "4df01aa1-0584-4954-9a81-947238164ce9",
   "metadata": {},
   "outputs": [],
   "source": [
    "class LayerDense:\n",
    "    def __init__(self, n_inputs, n_neurons):\n",
    "        self.weights = 0.01 * np.random.randn(n_inputs, n_neurons)\n",
    "        self.biases = np.zeros((1,n_neurons))\n",
    "    \n",
    "    def foreword(self, inputs):\n",
    "        self.outputs = np.dot(inputs, self.weights) + self.biases\n",
    "        "
   ]
  },
  {
   "cell_type": "code",
   "execution_count": 3,
   "id": "449569a2-3395-488a-b0bc-644b3963ffd9",
   "metadata": {},
   "outputs": [],
   "source": [
    "from nnfs.datasets import spiral_data\n",
    "import nnfs as n\n",
    "n.init()"
   ]
  },
  {
   "cell_type": "code",
   "execution_count": 4,
   "id": "632b920f-d2c8-40f9-b978-ab42ff354e53",
   "metadata": {},
   "outputs": [],
   "source": [
    "x, y = spiral_data(samples = 100, classes = 3)"
   ]
  },
  {
   "cell_type": "code",
   "execution_count": 5,
   "id": "fe27196c-3137-475b-84d0-796d83d65111",
   "metadata": {},
   "outputs": [],
   "source": [
    "dense1 = LayerDense(2, 3)"
   ]
  },
  {
   "cell_type": "code",
   "execution_count": 6,
   "id": "47a04bc2-f33d-48d1-b298-e142174e6060",
   "metadata": {},
   "outputs": [],
   "source": [
    "dense1.foreword(x)"
   ]
  },
  {
   "cell_type": "code",
   "execution_count": 7,
   "id": "402d91ad-4e07-4c6a-b337-98d60cbc75f8",
   "metadata": {},
   "outputs": [
    {
     "name": "stdout",
     "output_type": "stream",
     "text": [
      "[[ 0.0000000e+00  0.0000000e+00  0.0000000e+00]\n",
      " [-1.0475188e-04  1.1395361e-04 -4.7983500e-05]\n",
      " [-2.7414842e-04  3.1729150e-04 -8.6921798e-05]\n",
      " [-4.2188365e-04  5.2666257e-04 -5.5912682e-05]\n",
      " [-5.7707680e-04  7.1401405e-04 -8.9430439e-05]]\n"
     ]
    }
   ],
   "source": [
    "print(dense1.outputs[:5])"
   ]
  },
  {
   "cell_type": "code",
   "execution_count": 8,
   "id": "c39bec89-684a-4b61-8a80-e3434cd56964",
   "metadata": {},
   "outputs": [],
   "source": [
    "class ActivationReLU:\n",
    "    def forward(self, inputs):\n",
    "        self.outputs = np.maximum(0, inputs)"
   ]
  },
  {
   "cell_type": "code",
   "execution_count": 9,
   "id": "ece5e3fe-4695-4cda-894f-e62e29cb1be8",
   "metadata": {},
   "outputs": [],
   "source": [
    "Activation = ActivationReLU()"
   ]
  },
  {
   "cell_type": "code",
   "execution_count": 11,
   "id": "b31cb6ab-9d84-4182-a775-f941b485ee69",
   "metadata": {},
   "outputs": [],
   "source": [
    "Activation.forward(dense1.outputs)"
   ]
  },
  {
   "cell_type": "code",
   "execution_count": 12,
   "id": "7da1ffbb-be59-40b8-8cf2-3b239ae9a504",
   "metadata": {},
   "outputs": [
    {
     "data": {
      "text/plain": [
       "array([[0.        , 0.        , 0.        ],\n",
       "       [0.        , 0.00011395, 0.        ],\n",
       "       [0.        , 0.00031729, 0.        ],\n",
       "       [0.        , 0.00052666, 0.        ],\n",
       "       [0.        , 0.00071401, 0.        ]], dtype=float32)"
      ]
     },
     "execution_count": 12,
     "metadata": {},
     "output_type": "execute_result"
    }
   ],
   "source": [
    "Activation.outputs[:5]"
   ]
  },
  {
   "cell_type": "code",
   "execution_count": null,
   "id": "076c4789-3a66-4618-bfa8-c18d974940ec",
   "metadata": {},
   "outputs": [],
   "source": [
    "class softmax:\n",
    "    def forward(self, inputs):\n",
    "        expValues = np.exp(inputs-np.max(inputs, axis=1, keepdims = True))\n",
    "        probability = expValues / np.sum(expValues, axis= 1, keepdims=True)\n",
    "        self.output = probability"
   ]
  }
 ],
 "metadata": {
  "kernelspec": {
   "display_name": "Python 3 (ipykernel)",
   "language": "python",
   "name": "python3"
  },
  "language_info": {
   "codemirror_mode": {
    "name": "ipython",
    "version": 3
   },
   "file_extension": ".py",
   "mimetype": "text/x-python",
   "name": "python",
   "nbconvert_exporter": "python",
   "pygments_lexer": "ipython3",
   "version": "3.9.7"
  },
  "widgets": {
   "application/vnd.jupyter.widget-state+json": {
    "state": {},
    "version_major": 2,
    "version_minor": 0
   }
  }
 },
 "nbformat": 4,
 "nbformat_minor": 5
}
