{
 "cells": [
  {
   "cell_type": "code",
   "execution_count": 1,
   "id": "eabfaa70-27cf-4b4e-a584-3d954065280c",
   "metadata": {},
   "outputs": [],
   "source": [
    "import numpy as np\n",
    "import nnfs as n"
   ]
  },
  {
   "cell_type": "code",
   "execution_count": 2,
   "id": "a7772154-79f0-4ddd-b484-44728dfe74ad",
   "metadata": {},
   "outputs": [],
   "source": [
    "n.init()"
   ]
  },
  {
   "cell_type": "code",
   "execution_count": 3,
   "id": "258e400b-4e0a-47e7-ae0d-9d4cdbe1fc71",
   "metadata": {},
   "outputs": [
    {
     "data": {
      "text/plain": [
       "<module 'nnfs' from '/home/turing/anaconda3/lib/python3.9/site-packages/nnfs/__init__.py'>"
      ]
     },
     "execution_count": 3,
     "metadata": {},
     "output_type": "execute_result"
    }
   ],
   "source": [
    "n"
   ]
  },
  {
   "cell_type": "code",
   "execution_count": 5,
   "id": "0692b7f3-c7b6-4eb2-b2fa-74c1874f8ff1",
   "metadata": {},
   "outputs": [],
   "source": [
    "from nnfs.datasets import spiral_data"
   ]
  },
  {
   "cell_type": "code",
   "execution_count": 7,
   "id": "16cc7476-1ec9-4a42-b62a-c0cb7e20b978",
   "metadata": {},
   "outputs": [],
   "source": [
    "import matplotlib.pyplot as plt\n",
    "%matplotlib inline"
   ]
  },
  {
   "cell_type": "code",
   "execution_count": 8,
   "id": "f08b5541-5fee-4be4-9f9d-5a282564d42d",
   "metadata": {},
   "outputs": [],
   "source": [
    "x, y = spiral_data(samples = 100, classes = 3)"
   ]
  },
  {
   "cell_type": "code",
   "execution_count": 9,
   "id": "57f84f8c-f894-4d18-b9c3-dac59d0029d8",
   "metadata": {},
   "outputs": [
    {
     "data": {
      "text/plain": [
       "(300, 2)"
      ]
     },
     "execution_count": 9,
     "metadata": {},
     "output_type": "execute_result"
    }
   ],
   "source": [
    "x.shape"
   ]
  },
  {
   "cell_type": "code",
   "execution_count": 12,
   "id": "c2ed599c-2573-4b60-babb-5ce2f78014e9",
   "metadata": {},
   "outputs": [
    {
     "data": {
      "text/plain": [
       "(300,)"
      ]
     },
     "execution_count": 12,
     "metadata": {},
     "output_type": "execute_result"
    }
   ],
   "source": [
    "y.shape"
   ]
  },
  {
   "cell_type": "code",
   "execution_count": 14,
   "id": "be88bba5-d4ab-47b5-acc4-d7dc03b39092",
   "metadata": {},
   "outputs": [
    {
     "data": {
      "image/png": "[encoded data removed]",
      "text/plain": [
       "<Figure size 432x288 with 1 Axes>"
      ]
     },
     "metadata": {
      "needs_background": "light"
     },
     "output_type": "display_data"
    }
   ],
   "source": [
    "plt.scatter(x[:,1],x[:,0], y)\n",
    "plt.show()"
   ]
  },
  {
   "cell_type": "code",
   "execution_count": null,
   "id": "23e1b0da-454f-4956-9477-810533f09b41",
   "metadata": {},
   "outputs": [],
   "source": []
  }
 ],
 "metadata": {
  "kernelspec": {
   "display_name": "Python 3 (ipykernel)",
   "language": "python",
   "name": "python3"
  },
  "language_info": {
   "codemirror_mode": {
    "name": "ipython",
    "version": 3
   },
   "file_extension": ".py",
   "mimetype": "text/x-python",
   "name": "python",
   "nbconvert_exporter": "python",
   "pygments_lexer": "ipython3",
   "version": "3.9.7"
  }
 },
 "nbformat": 4,
 "nbformat_minor": 5
}
